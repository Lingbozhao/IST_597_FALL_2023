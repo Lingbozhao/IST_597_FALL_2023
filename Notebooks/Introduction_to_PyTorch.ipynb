{
  "nbformat": 4,
  "nbformat_minor": 0,
  "metadata": {
    "colab": {
      "provenance": []
    },
    "kernelspec": {
      "name": "python3",
      "display_name": "Python 3"
    },
    "language_info": {
      "name": "python"
    },
    "accelerator": "GPU",
    "gpuClass": "standard"
  },
  "cells": [
    {
      "cell_type": "markdown",
      "source": [
        "<h1><center>IST 597 Foundations of Deep Learning</center></h1>\n",
        "\n",
        "---\n",
        "\n",
        "<h2><center>Introduction to PyTorch</center><h2>\n",
        "<h3><center>Neisarg Dave</center><h3>"
      ],
      "metadata": {
        "id": "QxXNCKJUK9g3"
      }
    },
    {
      "cell_type": "markdown",
      "source": [
        "PyTorch Tutorials:\n",
        "+ https://pytorch.org/tutorials/beginner/basics/quickstart_tutorial.html\n",
        "+ https://pytorch.org/tutorials/index.html\n"
      ],
      "metadata": {
        "id": "rA9YkunwoMtF"
      }
    },
    {
      "cell_type": "code",
      "source": [
        "import torch"
      ],
      "metadata": {
        "id": "KGhWzBHDLDcq"
      },
      "execution_count": 1,
      "outputs": []
    },
    {
      "cell_type": "code",
      "source": [
        "# Define Tensors:\n",
        "\n",
        "x = torch.tensor([2,6,3,6,9,5,2,6,5,3])\n",
        "print(x)\n",
        "print(x.shape)\n",
        "print(x.size())\n",
        "print(x.device)\n",
        "print(x.type())"
      ],
      "metadata": {
        "colab": {
          "base_uri": "https://localhost:8080/"
        },
        "id": "8MA2J61DLJSP",
        "outputId": "ad6f41fc-509a-4605-ae53-e77eb72d8c56"
      },
      "execution_count": 2,
      "outputs": [
        {
          "output_type": "stream",
          "name": "stdout",
          "text": [
            "tensor([2, 6, 3, 6, 9, 5, 2, 6, 5, 3])\n",
            "torch.Size([10])\n",
            "torch.Size([10])\n",
            "cpu\n",
            "torch.LongTensor\n"
          ]
        }
      ]
    },
    {
      "cell_type": "code",
      "source": [
        "x = x.cuda()"
      ],
      "metadata": {
        "id": "QDSyanvGLdKa"
      },
      "execution_count": 3,
      "outputs": []
    },
    {
      "cell_type": "code",
      "source": [
        "print(x.device)"
      ],
      "metadata": {
        "colab": {
          "base_uri": "https://localhost:8080/"
        },
        "id": "2aDaUif0Lk2a",
        "outputId": "b70698b7-499e-4dc2-88a8-3f53cb43dd1a"
      },
      "execution_count": 4,
      "outputs": [
        {
          "output_type": "stream",
          "name": "stdout",
          "text": [
            "cuda:0\n"
          ]
        }
      ]
    },
    {
      "cell_type": "code",
      "source": [
        "x = torch.tensor([2,6,3,6,9,5,2,6,5,3], dtype=torch.float, device=torch.device(\"cuda:0\"))\n",
        "print(x.type())\n",
        "print(x.device)"
      ],
      "metadata": {
        "colab": {
          "base_uri": "https://localhost:8080/"
        },
        "id": "UHZtVfXCMXZm",
        "outputId": "c58baba2-5d29-457f-f764-5f2cccdfa23f"
      },
      "execution_count": 5,
      "outputs": [
        {
          "output_type": "stream",
          "name": "stdout",
          "text": [
            "torch.cuda.FloatTensor\n",
            "cuda:0\n"
          ]
        }
      ]
    },
    {
      "cell_type": "markdown",
      "source": [
        "Torch.tensor\n",
        "+ https://pytorch.org/docs/stable/tensors.html\n",
        "+ https://pytorch.org/docs/stable/torch.html\n",
        "\n",
        "Also Try:\n",
        "- torch.ones\n",
        "- torch.zeros\n",
        "- torch.nn.functional.one_hot\n",
        "  + https://pytorch.org/docs/stable/generated/torch.nn.functional.one_hot.html"
      ],
      "metadata": {
        "id": "kpyHMebjNTtZ"
      }
    },
    {
      "cell_type": "code",
      "source": [
        "W = torch.rand([10, 1], dtype = torch.float, device = torch.device(\"cuda:0\"), requires_grad=True)\n",
        "print(W)\n",
        "print(W.device)\n",
        "print(W.requires_grad)"
      ],
      "metadata": {
        "colab": {
          "base_uri": "https://localhost:8080/"
        },
        "id": "9OKksE4dNWsz",
        "outputId": "5826bc59-c4d6-49c9-8e06-b86f71ac251c"
      },
      "execution_count": 6,
      "outputs": [
        {
          "output_type": "stream",
          "name": "stdout",
          "text": [
            "tensor([[0.5952],\n",
            "        [0.3240],\n",
            "        [0.1811],\n",
            "        [0.4623],\n",
            "        [0.2543],\n",
            "        [0.3664],\n",
            "        [0.0092],\n",
            "        [0.1179],\n",
            "        [0.2987],\n",
            "        [0.0824]], device='cuda:0', requires_grad=True)\n",
            "cuda:0\n",
            "True\n"
          ]
        }
      ]
    },
    {
      "cell_type": "code",
      "source": [
        "# matrix multiplication\n",
        "z = torch.matmul(x, W)\n",
        "print(z.shape)\n",
        "print(z.requires_grad)"
      ],
      "metadata": {
        "colab": {
          "base_uri": "https://localhost:8080/"
        },
        "id": "jLBHyJwxpAuq",
        "outputId": "1e2a1658-051c-4699-b5c1-26c959b43041"
      },
      "execution_count": 7,
      "outputs": [
        {
          "output_type": "stream",
          "name": "stdout",
          "text": [
            "torch.Size([1])\n",
            "True\n"
          ]
        }
      ]
    },
    {
      "cell_type": "markdown",
      "source": [
        "Also try:\n",
        "+ torch.bmm\n",
        "+ torch.addbmm\n",
        "+ torch.addmm\n",
        "+ torch.addmv\n",
        "+ torch.chain_matmul\n",
        "+ torch.mm\n",
        "+ torch.mv"
      ],
      "metadata": {
        "id": "mRS1ELeQqKuU"
      }
    },
    {
      "cell_type": "code",
      "source": [
        " h = torch.sigmoid(z)\n",
        " print(z.requires_grad)\n",
        " print(h.requires_grad)"
      ],
      "metadata": {
        "colab": {
          "base_uri": "https://localhost:8080/"
        },
        "id": "CmtgmbC5p4jh",
        "outputId": "254865cf-1bdb-4e6a-8a4b-fbb567f67a0e"
      },
      "execution_count": 8,
      "outputs": [
        {
          "output_type": "stream",
          "name": "stdout",
          "text": [
            "True\n",
            "True\n"
          ]
        }
      ]
    },
    {
      "cell_type": "code",
      "source": [
        "y = torch.tensor([0], dtype = torch.long, device = torch.device(\"cuda:0\"))"
      ],
      "metadata": {
        "id": "JcvvpsXiqEK3"
      },
      "execution_count": 9,
      "outputs": []
    },
    {
      "cell_type": "code",
      "source": [
        "loss = (y - h)**2\n",
        "print(loss)"
      ],
      "metadata": {
        "colab": {
          "base_uri": "https://localhost:8080/"
        },
        "id": "QKYfJachrHTD",
        "outputId": "1641c56e-0b81-4af9-eb05-caaccdcbf30c"
      },
      "execution_count": 10,
      "outputs": [
        {
          "output_type": "stream",
          "name": "stdout",
          "text": [
            "tensor([1.0000], device='cuda:0', grad_fn=<PowBackward0>)\n"
          ]
        }
      ]
    },
    {
      "cell_type": "code",
      "source": [
        "loss.backward()"
      ],
      "metadata": {
        "id": "z-b1N6idretQ"
      },
      "execution_count": 11,
      "outputs": []
    },
    {
      "cell_type": "markdown",
      "source": [
        "$ h = σ(xW) $ \\\\\n",
        "\\\n",
        "$ loss = (y - h)^2 $ \\\\\n",
        "\\\n",
        "$\\frac{\\partial loss}{\\partial W} = \\frac{\\partial loss}{\\partial h} \\frac{\\partial h}{ \\partial W}$"
      ],
      "metadata": {
        "id": "90uoZ8Tquq95"
      }
    },
    {
      "cell_type": "code",
      "source": [
        "print(W.grad)"
      ],
      "metadata": {
        "colab": {
          "base_uri": "https://localhost:8080/"
        },
        "id": "FbbZvBuKruln",
        "outputId": "cff01963-65dd-4c8a-d3d7-4acbd68b5aaa"
      },
      "execution_count": 12,
      "outputs": [
        {
          "output_type": "stream",
          "name": "stdout",
          "text": [
            "tensor([[8.5830e-06],\n",
            "        [2.5749e-05],\n",
            "        [1.2875e-05],\n",
            "        [2.5749e-05],\n",
            "        [3.8624e-05],\n",
            "        [2.1458e-05],\n",
            "        [8.5830e-06],\n",
            "        [2.5749e-05],\n",
            "        [2.1458e-05],\n",
            "        [1.2875e-05]], device='cuda:0')\n"
          ]
        }
      ]
    },
    {
      "cell_type": "markdown",
      "source": [
        "$ \\frac{\\partial loss} {\\partial h} = 2(y-h)$"
      ],
      "metadata": {
        "id": "ZDG1kIwav8gl"
      }
    },
    {
      "cell_type": "code",
      "source": [
        "with torch.no_grad():\n",
        "  dldh = -2*(y - h)\n",
        "  print(dldh)"
      ],
      "metadata": {
        "colab": {
          "base_uri": "https://localhost:8080/"
        },
        "id": "5R2p-U0LwKrW",
        "outputId": "97ee56da-b2e4-450f-ff09-000c7c7bebc7"
      },
      "execution_count": 13,
      "outputs": [
        {
          "output_type": "stream",
          "name": "stdout",
          "text": [
            "tensor([2.0000], device='cuda:0')\n"
          ]
        }
      ]
    },
    {
      "cell_type": "markdown",
      "source": [
        "$\\frac{\\partial h}{\\partial W} = \\sigma(Wx)(1 - \\sigma(Wx))x$"
      ],
      "metadata": {
        "id": "twYda2ISwevT"
      }
    },
    {
      "cell_type": "code",
      "source": [
        "with torch.no_grad():\n",
        "  dhdw = torch.sigmoid(z)*(1-torch.sigmoid(z))*x\n",
        "  print(dhdw)"
      ],
      "metadata": {
        "colab": {
          "base_uri": "https://localhost:8080/"
        },
        "id": "0nnVMODOxA_p",
        "outputId": "9900e4b6-3df5-4b5b-eecc-9f01cca25c20"
      },
      "execution_count": 14,
      "outputs": [
        {
          "output_type": "stream",
          "name": "stdout",
          "text": [
            "tensor([4.2915e-06, 1.2875e-05, 6.4373e-06, 1.2875e-05, 1.9312e-05, 1.0729e-05,\n",
            "        4.2915e-06, 1.2875e-05, 1.0729e-05, 6.4373e-06], device='cuda:0')\n"
          ]
        }
      ]
    },
    {
      "cell_type": "code",
      "source": [
        "dldw = dldh * dhdw\n",
        "print(dldw)"
      ],
      "metadata": {
        "colab": {
          "base_uri": "https://localhost:8080/"
        },
        "id": "7Y7mNVHFxVyh",
        "outputId": "84858c49-a943-4400-aa88-e4a720e9c412"
      },
      "execution_count": 15,
      "outputs": [
        {
          "output_type": "stream",
          "name": "stdout",
          "text": [
            "tensor([8.5830e-06, 2.5749e-05, 1.2875e-05, 2.5749e-05, 3.8624e-05, 2.1458e-05,\n",
            "        8.5830e-06, 2.5749e-05, 2.1458e-05, 1.2875e-05], device='cuda:0')\n"
          ]
        }
      ]
    },
    {
      "cell_type": "code",
      "source": [
        "print(W.grad)"
      ],
      "metadata": {
        "colab": {
          "base_uri": "https://localhost:8080/"
        },
        "id": "HGPfLGPWxen0",
        "outputId": "45c8825f-5036-4109-8ca6-e789f048448c"
      },
      "execution_count": 16,
      "outputs": [
        {
          "output_type": "stream",
          "name": "stdout",
          "text": [
            "tensor([[8.5830e-06],\n",
            "        [2.5749e-05],\n",
            "        [1.2875e-05],\n",
            "        [2.5749e-05],\n",
            "        [3.8624e-05],\n",
            "        [2.1458e-05],\n",
            "        [8.5830e-06],\n",
            "        [2.5749e-05],\n",
            "        [2.1458e-05],\n",
            "        [1.2875e-05]], device='cuda:0')\n"
          ]
        }
      ]
    },
    {
      "cell_type": "code",
      "source": [],
      "metadata": {
        "id": "JSyp7gefxlxY"
      },
      "execution_count": null,
      "outputs": []
    }
  ]
}
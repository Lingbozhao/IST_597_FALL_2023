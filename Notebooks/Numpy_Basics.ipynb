{
  "cells": [
    {
      "cell_type": "markdown",
      "id": "91f1a0a3-06bf-4006-8386-bbac3d9ea621",
      "metadata": {
        "tags": [],
        "id": "91f1a0a3-06bf-4006-8386-bbac3d9ea621"
      },
      "source": [
        "<h1><center>IST 597 Foundations of Deep Learning</center></h1>\n",
        "\n",
        "---\n",
        "\n",
        "<h2><center>Introduction to Numpy</center><h2>\n",
        "<h3><center>Neisarg Dave</center><h3>"
      ]
    },
    {
      "cell_type": "code",
      "execution_count": 1,
      "id": "3dfc66e5-cebe-4331-b26a-aeb425b4c992",
      "metadata": {
        "id": "3dfc66e5-cebe-4331-b26a-aeb425b4c992"
      },
      "outputs": [],
      "source": [
        "import numpy as np"
      ]
    },
    {
      "cell_type": "code",
      "source": [
        "# define a vector\n",
        "x = np.array([1, 2, 3])"
      ],
      "metadata": {
        "id": "pMODxysHpRMU"
      },
      "id": "pMODxysHpRMU",
      "execution_count": 2,
      "outputs": []
    },
    {
      "cell_type": "code",
      "source": [
        "# define a matrix\n",
        "W = np.array([[3, 2, 4], [2, 4, 6], [2,3,5]])"
      ],
      "metadata": {
        "id": "pUT7wQSUpc6V"
      },
      "id": "pUT7wQSUpc6V",
      "execution_count": 3,
      "outputs": []
    },
    {
      "cell_type": "code",
      "source": [
        "print(x)"
      ],
      "metadata": {
        "colab": {
          "base_uri": "https://localhost:8080/"
        },
        "id": "xdTmQ2ZEqCvF",
        "outputId": "b2979d94-86cd-4a00-fec4-c002a227a221"
      },
      "id": "xdTmQ2ZEqCvF",
      "execution_count": 4,
      "outputs": [
        {
          "output_type": "stream",
          "name": "stdout",
          "text": [
            "[1 2 3]\n"
          ]
        }
      ]
    },
    {
      "cell_type": "code",
      "source": [
        "print(W)"
      ],
      "metadata": {
        "colab": {
          "base_uri": "https://localhost:8080/"
        },
        "id": "FYTSq395qEmm",
        "outputId": "8674faea-fd0f-484c-f5d4-42700f41ea0b"
      },
      "id": "FYTSq395qEmm",
      "execution_count": 5,
      "outputs": [
        {
          "output_type": "stream",
          "name": "stdout",
          "text": [
            "[[3 2 4]\n",
            " [2 4 6]\n",
            " [2 3 5]]\n"
          ]
        }
      ]
    },
    {
      "cell_type": "code",
      "source": [
        "np.eye(4)"
      ],
      "metadata": {
        "colab": {
          "base_uri": "https://localhost:8080/"
        },
        "id": "dQswicX_9onB",
        "outputId": "daadc944-4c70-4d0d-8137-262b37fd9ff3"
      },
      "id": "dQswicX_9onB",
      "execution_count": 22,
      "outputs": [
        {
          "output_type": "execute_result",
          "data": {
            "text/plain": [
              "array([[1., 0., 0., 0.],\n",
              "       [0., 1., 0., 0.],\n",
              "       [0., 0., 1., 0.],\n",
              "       [0., 0., 0., 1.]])"
            ]
          },
          "metadata": {},
          "execution_count": 22
        }
      ]
    },
    {
      "cell_type": "code",
      "source": [
        "np.ones([4, 4])"
      ],
      "metadata": {
        "colab": {
          "base_uri": "https://localhost:8080/"
        },
        "id": "IqP-A2vQ9se2",
        "outputId": "7083cbdc-7c08-4710-a082-277896383304"
      },
      "id": "IqP-A2vQ9se2",
      "execution_count": 23,
      "outputs": [
        {
          "output_type": "execute_result",
          "data": {
            "text/plain": [
              "array([[1., 1., 1., 1.],\n",
              "       [1., 1., 1., 1.],\n",
              "       [1., 1., 1., 1.],\n",
              "       [1., 1., 1., 1.]])"
            ]
          },
          "metadata": {},
          "execution_count": 23
        }
      ]
    },
    {
      "cell_type": "code",
      "source": [
        "np.zeros([3, 2])"
      ],
      "metadata": {
        "colab": {
          "base_uri": "https://localhost:8080/"
        },
        "id": "u3qlh4h69vfh",
        "outputId": "08574efc-c4f5-475d-c1d9-74695c268d68"
      },
      "id": "u3qlh4h69vfh",
      "execution_count": 24,
      "outputs": [
        {
          "output_type": "execute_result",
          "data": {
            "text/plain": [
              "array([[0., 0.],\n",
              "       [0., 0.],\n",
              "       [0., 0.]])"
            ]
          },
          "metadata": {},
          "execution_count": 24
        }
      ]
    },
    {
      "cell_type": "code",
      "source": [
        "x = np.array([1, 2, 3])\n",
        "y = x = np.array([4, 5, 6])\n",
        "x+y\n"
      ],
      "metadata": {
        "colab": {
          "base_uri": "https://localhost:8080/"
        },
        "id": "JX2Fmu1QLtHE",
        "outputId": "dd11016d-483f-4568-f7be-304a6004b179"
      },
      "id": "JX2Fmu1QLtHE",
      "execution_count": 87,
      "outputs": [
        {
          "output_type": "execute_result",
          "data": {
            "text/plain": [
              "array([ 8, 10, 12])"
            ]
          },
          "metadata": {},
          "execution_count": 87
        }
      ]
    },
    {
      "cell_type": "markdown",
      "source": [
        "## Random Sampling\n",
        "\n",
        "https://numpy.org/doc/stable/reference/random/index.html"
      ],
      "metadata": {
        "id": "h8urMwB995U2"
      },
      "id": "h8urMwB995U2"
    },
    {
      "cell_type": "code",
      "source": [
        "np.random.normal(loc = 0, scale = 0.1, size = [4,5])"
      ],
      "metadata": {
        "colab": {
          "base_uri": "https://localhost:8080/"
        },
        "id": "2ssMTqkx94Kq",
        "outputId": "52fe7f18-fb26-4645-ea9a-828157acbb83"
      },
      "id": "2ssMTqkx94Kq",
      "execution_count": 30,
      "outputs": [
        {
          "output_type": "execute_result",
          "data": {
            "text/plain": [
              "array([[ 0.09792399, -0.05561973, -0.18165895,  0.0476302 , -0.05761593],\n",
              "       [-0.04269544, -0.02897363,  0.01615999, -0.21762062, -0.05881516],\n",
              "       [-0.27700908, -0.18952902, -0.12092704,  0.00461874, -0.06348213],\n",
              "       [-0.25159603,  0.02443591,  0.07401597,  0.10830333, -0.10293479]])"
            ]
          },
          "metadata": {},
          "execution_count": 30
        }
      ]
    },
    {
      "cell_type": "code",
      "source": [
        "np.random.uniform(low=0.0, high=1.0, size=[4, 5])"
      ],
      "metadata": {
        "colab": {
          "base_uri": "https://localhost:8080/"
        },
        "id": "LO8ZnwyM-CWE",
        "outputId": "aa8920dd-bc53-43c5-e2f8-1b8a25d917cf"
      },
      "id": "LO8ZnwyM-CWE",
      "execution_count": 27,
      "outputs": [
        {
          "output_type": "execute_result",
          "data": {
            "text/plain": [
              "array([[0.01642085, 0.01000077, 0.33991175, 0.08146371, 0.96755369],\n",
              "       [0.72189929, 0.87383717, 0.18982813, 0.46746664, 0.80365205],\n",
              "       [0.98536497, 0.2169013 , 0.35684274, 0.02955119, 0.93591452],\n",
              "       [0.48140022, 0.29953938, 0.24461296, 0.94251911, 0.40221726]])"
            ]
          },
          "metadata": {},
          "execution_count": 27
        }
      ]
    },
    {
      "cell_type": "markdown",
      "source": [
        "## Indexing"
      ],
      "metadata": {
        "id": "tSmTIBGC62-V"
      },
      "id": "tSmTIBGC62-V"
    },
    {
      "cell_type": "code",
      "source": [
        "# create a tensor by randomly sampling items\n",
        "\n",
        "y = np.random.normal(0, 0.1, [3,4,5])\n",
        "print(y)\n",
        "print(y.shape)"
      ],
      "metadata": {
        "id": "hNRL_iTAqFm6",
        "colab": {
          "base_uri": "https://localhost:8080/"
        },
        "outputId": "d8919535-d849-44ce-c66b-a8afe38f8e85"
      },
      "id": "hNRL_iTAqFm6",
      "execution_count": 32,
      "outputs": [
        {
          "output_type": "stream",
          "name": "stdout",
          "text": [
            "[[[-0.06932308  0.1173221   0.22284167 -0.16166382  0.02708965]\n",
            "  [ 0.09907556  0.08163195 -0.05847858 -0.09869772 -0.03749893]\n",
            "  [ 0.02183415 -0.17935024 -0.01178139  0.09950492 -0.02606358]\n",
            "  [-0.11730132 -0.24138153 -0.14526842  0.00095615 -0.1317315 ]]\n",
            "\n",
            " [[-0.05162138 -0.02356721  0.11508546 -0.06233772 -0.0977354 ]\n",
            "  [-0.06452405 -0.11079027 -0.11346275  0.05081289  0.02279086]\n",
            "  [ 0.01369849  0.00591411  0.06813791  0.09869792  0.03206879]\n",
            "  [ 0.06303045  0.06593762 -0.0840211  -0.1936661  -0.07874626]]\n",
            "\n",
            " [[-0.08168899  0.19093288 -0.04152824  0.10063464  0.00029692]\n",
            "  [-0.03721065  0.0460011   0.06611709 -0.06427834  0.23333314]\n",
            "  [-0.06243708  0.20900305 -0.06675282  0.13425412 -0.01041236]\n",
            "  [-0.13264352 -0.15001002 -0.1032387   0.05802558 -0.06331753]]]\n",
            "(3, 4, 5)\n"
          ]
        }
      ]
    },
    {
      "cell_type": "code",
      "source": [
        "print(y[0])"
      ],
      "metadata": {
        "colab": {
          "base_uri": "https://localhost:8080/"
        },
        "id": "55wftHE0uX2b",
        "outputId": "d2a55c91-014e-48a3-a359-9c6443e8bdb3"
      },
      "id": "55wftHE0uX2b",
      "execution_count": 33,
      "outputs": [
        {
          "output_type": "stream",
          "name": "stdout",
          "text": [
            "[[-0.06932308  0.1173221   0.22284167 -0.16166382  0.02708965]\n",
            " [ 0.09907556  0.08163195 -0.05847858 -0.09869772 -0.03749893]\n",
            " [ 0.02183415 -0.17935024 -0.01178139  0.09950492 -0.02606358]\n",
            " [-0.11730132 -0.24138153 -0.14526842  0.00095615 -0.1317315 ]]\n"
          ]
        }
      ]
    },
    {
      "cell_type": "code",
      "source": [
        "print(y[0, 1])"
      ],
      "metadata": {
        "colab": {
          "base_uri": "https://localhost:8080/"
        },
        "id": "cOSoknEYue9F",
        "outputId": "490b6cfe-8b7c-44fc-e6b2-65d6f8154d91"
      },
      "id": "cOSoknEYue9F",
      "execution_count": 34,
      "outputs": [
        {
          "output_type": "stream",
          "name": "stdout",
          "text": [
            "[ 0.09907556  0.08163195 -0.05847858 -0.09869772 -0.03749893]\n"
          ]
        }
      ]
    },
    {
      "cell_type": "code",
      "source": [
        "print(y[1, 1:-1])"
      ],
      "metadata": {
        "colab": {
          "base_uri": "https://localhost:8080/"
        },
        "id": "jHpD5K-7ujsH",
        "outputId": "20b4c163-6fd4-40dc-8a5e-b9d460b40514"
      },
      "id": "jHpD5K-7ujsH",
      "execution_count": 35,
      "outputs": [
        {
          "output_type": "stream",
          "name": "stdout",
          "text": [
            "[[-0.06452405 -0.11079027 -0.11346275  0.05081289  0.02279086]\n",
            " [ 0.01369849  0.00591411  0.06813791  0.09869792  0.03206879]]\n"
          ]
        }
      ]
    },
    {
      "cell_type": "code",
      "source": [
        "y[1, 1:-1] > 0"
      ],
      "metadata": {
        "colab": {
          "base_uri": "https://localhost:8080/"
        },
        "id": "Z_DmAxstB-FU",
        "outputId": "08972c8c-3939-439c-ffd3-e5f1f20f2ab1"
      },
      "id": "Z_DmAxstB-FU",
      "execution_count": 36,
      "outputs": [
        {
          "output_type": "execute_result",
          "data": {
            "text/plain": [
              "array([[False, False, False,  True,  True],\n",
              "       [ True,  True,  True,  True,  True]])"
            ]
          },
          "metadata": {},
          "execution_count": 36
        }
      ]
    },
    {
      "cell_type": "code",
      "source": [
        "y[1, 1:-1][y[1, 1:-1] > 0]"
      ],
      "metadata": {
        "colab": {
          "base_uri": "https://localhost:8080/"
        },
        "id": "Jo8BpfWbCFvG",
        "outputId": "36b8dbc1-a4df-4dba-f865-bd80e5aec154"
      },
      "id": "Jo8BpfWbCFvG",
      "execution_count": 37,
      "outputs": [
        {
          "output_type": "execute_result",
          "data": {
            "text/plain": [
              "array([0.05081289, 0.02279086, 0.01369849, 0.00591411, 0.06813791,\n",
              "       0.09869792, 0.03206879])"
            ]
          },
          "metadata": {},
          "execution_count": 37
        }
      ]
    },
    {
      "cell_type": "markdown",
      "source": [
        "## Broadcasting\n",
        "https://numpy.org/doc/stable/user/basics.broadcasting.html"
      ],
      "metadata": {
        "id": "QVRGGniAJXVn"
      },
      "id": "QVRGGniAJXVn"
    },
    {
      "cell_type": "code",
      "source": [
        "x = np.random.normal(0, 0.1, [5])\n",
        "print(x)"
      ],
      "metadata": {
        "colab": {
          "base_uri": "https://localhost:8080/"
        },
        "id": "gbSrmuvJJpxR",
        "outputId": "b6c75516-7ec8-4f69-96bf-89fd231bf4ac"
      },
      "id": "gbSrmuvJJpxR",
      "execution_count": 81,
      "outputs": [
        {
          "output_type": "stream",
          "name": "stdout",
          "text": [
            "[ 0.25459289 -0.00739592  0.13890528  0.11126302  0.00996451]\n"
          ]
        }
      ]
    },
    {
      "cell_type": "code",
      "source": [
        "np.broadcast_to(x, [3, 5])\n"
      ],
      "metadata": {
        "colab": {
          "base_uri": "https://localhost:8080/"
        },
        "id": "hIPKwGnuJ8yd",
        "outputId": "d1b11546-2829-4f64-9cb4-3d1a96298bc3"
      },
      "id": "hIPKwGnuJ8yd",
      "execution_count": 83,
      "outputs": [
        {
          "output_type": "execute_result",
          "data": {
            "text/plain": [
              "array([[ 0.25459289, -0.00739592,  0.13890528,  0.11126302,  0.00996451],\n",
              "       [ 0.25459289, -0.00739592,  0.13890528,  0.11126302,  0.00996451],\n",
              "       [ 0.25459289, -0.00739592,  0.13890528,  0.11126302,  0.00996451]])"
            ]
          },
          "metadata": {},
          "execution_count": 83
        }
      ]
    },
    {
      "cell_type": "code",
      "source": [
        "np.broadcast_to(np.expand_dims(x, axis = 1), [5, 3])"
      ],
      "metadata": {
        "colab": {
          "base_uri": "https://localhost:8080/"
        },
        "id": "g6LOmf5NLVGr",
        "outputId": "91492d8c-f65c-4088-d19c-1a75872ed6d3"
      },
      "id": "g6LOmf5NLVGr",
      "execution_count": 85,
      "outputs": [
        {
          "output_type": "execute_result",
          "data": {
            "text/plain": [
              "array([[ 0.25459289,  0.25459289,  0.25459289],\n",
              "       [-0.00739592, -0.00739592, -0.00739592],\n",
              "       [ 0.13890528,  0.13890528,  0.13890528],\n",
              "       [ 0.11126302,  0.11126302,  0.11126302],\n",
              "       [ 0.00996451,  0.00996451,  0.00996451]])"
            ]
          },
          "metadata": {},
          "execution_count": 85
        }
      ]
    },
    {
      "cell_type": "markdown",
      "source": [
        "## Stacking Tensors"
      ],
      "metadata": {
        "id": "Yq6q2MmY6fu-"
      },
      "id": "Yq6q2MmY6fu-"
    },
    {
      "cell_type": "code",
      "source": [
        "# create a list of 10 vectors\n",
        "\n",
        "a = [np.random.randint(0, 9, size=[20]) for i in range(10)]\n",
        "print(a)\n"
      ],
      "metadata": {
        "colab": {
          "base_uri": "https://localhost:8080/"
        },
        "id": "-HIJoxwVqqem",
        "outputId": "f196a710-ad14-4073-e86b-16fb1d00fb91"
      },
      "id": "-HIJoxwVqqem",
      "execution_count": 38,
      "outputs": [
        {
          "output_type": "stream",
          "name": "stdout",
          "text": [
            "[array([8, 4, 8, 0, 6, 1, 3, 1, 8, 7, 1, 0, 0, 2, 4, 7, 1, 4, 7, 8]), array([6, 0, 1, 0, 4, 6, 2, 4, 7, 6, 8, 5, 5, 1, 2, 0, 5, 6, 6, 7]), array([4, 0, 3, 8, 0, 1, 2, 6, 4, 8, 7, 5, 1, 3, 2, 0, 1, 0, 1, 2]), array([1, 5, 4, 8, 8, 8, 3, 6, 1, 6, 2, 0, 5, 3, 4, 3, 5, 7, 5, 2]), array([1, 0, 5, 6, 7, 8, 1, 7, 1, 3, 7, 2, 7, 3, 5, 4, 7, 2, 5, 8]), array([4, 3, 6, 8, 5, 6, 1, 6, 6, 3, 7, 5, 1, 2, 0, 3, 2, 7, 8, 1]), array([7, 1, 7, 4, 8, 5, 5, 1, 6, 4, 3, 7, 5, 0, 7, 5, 7, 3, 2, 4]), array([0, 4, 8, 6, 8, 5, 6, 6, 1, 7, 5, 3, 4, 5, 4, 3, 8, 7, 8, 5]), array([7, 7, 2, 7, 1, 3, 3, 5, 3, 0, 6, 2, 6, 7, 7, 8, 7, 5, 2, 5]), array([1, 4, 8, 0, 8, 4, 6, 7, 8, 3, 2, 3, 0, 1, 2, 0, 3, 7, 8, 4])]\n"
          ]
        }
      ]
    },
    {
      "cell_type": "code",
      "source": [
        "print(len(a), a[0].shape)"
      ],
      "metadata": {
        "colab": {
          "base_uri": "https://localhost:8080/"
        },
        "id": "URa9XsicrRAX",
        "outputId": "a5094645-bda0-441a-edf5-1be5daddefcd"
      },
      "id": "URa9XsicrRAX",
      "execution_count": 39,
      "outputs": [
        {
          "output_type": "stream",
          "name": "stdout",
          "text": [
            "10 (20,)\n"
          ]
        }
      ]
    },
    {
      "cell_type": "code",
      "source": [
        "# stack vectors in list\n",
        "stacked_0 = np.stack(a, axis=0)\n",
        "print(stacked_0)\n",
        "print(stacked_0.shape)"
      ],
      "metadata": {
        "colab": {
          "base_uri": "https://localhost:8080/"
        },
        "id": "_zv1WdFBr-kI",
        "outputId": "5c7d32e3-6a32-4821-939d-e76278bdc1d9"
      },
      "id": "_zv1WdFBr-kI",
      "execution_count": 40,
      "outputs": [
        {
          "output_type": "stream",
          "name": "stdout",
          "text": [
            "[[8 4 8 0 6 1 3 1 8 7 1 0 0 2 4 7 1 4 7 8]\n",
            " [6 0 1 0 4 6 2 4 7 6 8 5 5 1 2 0 5 6 6 7]\n",
            " [4 0 3 8 0 1 2 6 4 8 7 5 1 3 2 0 1 0 1 2]\n",
            " [1 5 4 8 8 8 3 6 1 6 2 0 5 3 4 3 5 7 5 2]\n",
            " [1 0 5 6 7 8 1 7 1 3 7 2 7 3 5 4 7 2 5 8]\n",
            " [4 3 6 8 5 6 1 6 6 3 7 5 1 2 0 3 2 7 8 1]\n",
            " [7 1 7 4 8 5 5 1 6 4 3 7 5 0 7 5 7 3 2 4]\n",
            " [0 4 8 6 8 5 6 6 1 7 5 3 4 5 4 3 8 7 8 5]\n",
            " [7 7 2 7 1 3 3 5 3 0 6 2 6 7 7 8 7 5 2 5]\n",
            " [1 4 8 0 8 4 6 7 8 3 2 3 0 1 2 0 3 7 8 4]]\n",
            "(10, 20)\n"
          ]
        }
      ]
    },
    {
      "cell_type": "code",
      "source": [
        "stacked_1 = np.stack(a, axis=1)\n",
        "print(stacked_1)\n",
        "print(stacked_1.shape)"
      ],
      "metadata": {
        "colab": {
          "base_uri": "https://localhost:8080/"
        },
        "id": "tIY4j143tYpJ",
        "outputId": "0eb1af0a-313e-42dc-c0b9-9270ede22d5d"
      },
      "id": "tIY4j143tYpJ",
      "execution_count": 11,
      "outputs": [
        {
          "output_type": "stream",
          "name": "stdout",
          "text": [
            "[[7 3 4 0 6 8 8 0 4 8]\n",
            " [5 7 5 6 5 4 6 3 6 2]\n",
            " [6 6 5 7 1 3 6 1 5 6]\n",
            " [4 1 6 0 2 1 3 4 1 4]\n",
            " [3 4 7 7 2 0 3 7 5 5]\n",
            " [8 6 4 6 5 8 6 1 5 5]\n",
            " [8 5 5 5 0 0 7 1 0 5]\n",
            " [6 3 1 8 8 2 0 0 6 1]\n",
            " [4 1 1 4 2 6 2 4 1 1]\n",
            " [7 5 5 6 0 8 6 7 2 2]\n",
            " [4 7 1 2 6 7 8 1 6 6]\n",
            " [3 0 5 6 6 3 4 4 4 5]\n",
            " [6 7 3 0 1 0 4 2 1 8]\n",
            " [7 5 8 5 2 8 2 8 8 2]\n",
            " [6 0 3 2 3 5 3 5 5 2]\n",
            " [0 4 8 7 4 1 0 5 5 1]\n",
            " [0 8 0 5 6 6 3 0 0 7]\n",
            " [2 0 6 4 6 0 7 2 7 2]\n",
            " [1 7 1 6 1 3 2 4 3 8]\n",
            " [3 3 6 5 5 2 1 5 6 1]]\n",
            "(20, 10)\n"
          ]
        }
      ]
    },
    {
      "cell_type": "code",
      "source": [
        "print(stacked_1.transpose())"
      ],
      "metadata": {
        "colab": {
          "base_uri": "https://localhost:8080/"
        },
        "id": "2FCLvCOEtcik",
        "outputId": "50a60593-4451-46fe-b903-05084c0e5920"
      },
      "id": "2FCLvCOEtcik",
      "execution_count": 41,
      "outputs": [
        {
          "output_type": "stream",
          "name": "stdout",
          "text": [
            "[[7 5 6 4 3 8 8 6 4 7 4 3 6 7 6 0 0 2 1 3]\n",
            " [3 7 6 1 4 6 5 3 1 5 7 0 7 5 0 4 8 0 7 3]\n",
            " [4 5 5 6 7 4 5 1 1 5 1 5 3 8 3 8 0 6 1 6]\n",
            " [0 6 7 0 7 6 5 8 4 6 2 6 0 5 2 7 5 4 6 5]\n",
            " [6 5 1 2 2 5 0 8 2 0 6 6 1 2 3 4 6 6 1 5]\n",
            " [8 4 3 1 0 8 0 2 6 8 7 3 0 8 5 1 6 0 3 2]\n",
            " [8 6 6 3 3 6 7 0 2 6 8 4 4 2 3 0 3 7 2 1]\n",
            " [0 3 1 4 7 1 1 0 4 7 1 4 2 8 5 5 0 2 4 5]\n",
            " [4 6 5 1 5 5 0 6 1 2 6 4 1 8 5 5 0 7 3 6]\n",
            " [8 2 6 4 5 5 5 1 1 2 6 5 8 2 2 1 7 2 8 1]]\n"
          ]
        }
      ]
    },
    {
      "cell_type": "code",
      "source": [
        "stacked_1.transpose() == stacked_0"
      ],
      "metadata": {
        "colab": {
          "base_uri": "https://localhost:8080/"
        },
        "id": "0rby2YuSt-_a",
        "outputId": "c5308697-11b8-4e4d-9bc9-d57f09218ca3"
      },
      "id": "0rby2YuSt-_a",
      "execution_count": 42,
      "outputs": [
        {
          "output_type": "execute_result",
          "data": {
            "text/plain": [
              "array([[False, False, False, False, False, False, False, False, False,\n",
              "         True, False, False, False, False, False, False, False, False,\n",
              "        False, False],\n",
              "       [False, False, False, False,  True,  True, False, False, False,\n",
              "        False, False, False, False, False, False, False, False, False,\n",
              "        False, False],\n",
              "       [ True, False, False, False, False, False, False, False, False,\n",
              "        False, False,  True, False, False, False, False, False, False,\n",
              "         True, False],\n",
              "       [False, False, False, False, False, False, False, False, False,\n",
              "         True,  True, False, False, False, False, False,  True, False,\n",
              "        False, False],\n",
              "       [False, False, False, False, False, False, False, False, False,\n",
              "        False, False, False, False, False, False,  True, False, False,\n",
              "        False, False],\n",
              "       [False, False, False, False, False, False, False, False,  True,\n",
              "        False,  True, False, False, False, False, False, False, False,\n",
              "        False, False],\n",
              "       [False, False, False, False, False, False, False, False, False,\n",
              "        False, False, False, False, False, False, False, False, False,\n",
              "         True, False],\n",
              "       [ True, False, False, False, False, False, False, False, False,\n",
              "         True, False, False, False, False, False, False, False, False,\n",
              "        False,  True],\n",
              "       [False, False, False, False, False, False, False, False, False,\n",
              "        False,  True, False, False, False, False, False, False, False,\n",
              "        False, False],\n",
              "       [False, False, False, False, False, False, False, False, False,\n",
              "        False, False, False, False, False,  True, False, False, False,\n",
              "         True, False]])"
            ]
          },
          "metadata": {},
          "execution_count": 42
        }
      ]
    },
    {
      "cell_type": "markdown",
      "source": [
        "## Matrix Multiplication"
      ],
      "metadata": {
        "id": "aAsETtsO6nhM"
      },
      "id": "aAsETtsO6nhM"
    },
    {
      "cell_type": "code",
      "source": [
        "x = np.arange(10)\n",
        "W = np.random.normal(0, 0.1, size = [6, 10])\n",
        "print(x)\n",
        "print(x.shape, W.shape)"
      ],
      "metadata": {
        "colab": {
          "base_uri": "https://localhost:8080/"
        },
        "id": "WyS2-eJruMrL",
        "outputId": "dd0fbcc9-d01f-47b7-9b60-4a793c76914e"
      },
      "id": "WyS2-eJruMrL",
      "execution_count": 16,
      "outputs": [
        {
          "output_type": "stream",
          "name": "stdout",
          "text": [
            "[0 1 2 3 4 5 6 7 8 9]\n",
            "(10,) (6, 10)\n"
          ]
        }
      ]
    },
    {
      "cell_type": "code",
      "source": [
        "# matrix multiplication\n",
        "y = np.matmul(W, x)\n",
        "print(y.shape)\n",
        "print(y)"
      ],
      "metadata": {
        "colab": {
          "base_uri": "https://localhost:8080/"
        },
        "id": "hVBVFZvPwMbq",
        "outputId": "c876289b-cdbd-48ca-e607-f3b011786ca8"
      },
      "id": "hVBVFZvPwMbq",
      "execution_count": 17,
      "outputs": [
        {
          "output_type": "stream",
          "name": "stdout",
          "text": [
            "(6,)\n",
            "[ 1.31287537 -4.40156415  0.33488139 -2.27453716 -0.57428413  0.12830037]\n"
          ]
        }
      ]
    },
    {
      "cell_type": "code",
      "source": [
        "W@x"
      ],
      "metadata": {
        "colab": {
          "base_uri": "https://localhost:8080/"
        },
        "id": "YseGKLJSCcYG",
        "outputId": "5caa9085-6208-412f-e564-006374eea153"
      },
      "id": "YseGKLJSCcYG",
      "execution_count": 43,
      "outputs": [
        {
          "output_type": "execute_result",
          "data": {
            "text/plain": [
              "array([ 1.31287537, -4.40156415,  0.33488139, -2.27453716, -0.57428413,\n",
              "        0.12830037])"
            ]
          },
          "metadata": {},
          "execution_count": 43
        }
      ]
    },
    {
      "cell_type": "markdown",
      "source": [
        "## Hadarmard Product\n",
        "\n",
        "$A_{nxn} \\circ B_{nxn} = \\begin{bmatrix} a_{11}b_{11} & . . .&  a_{1n}b_{1n} \\\\ . & . & . \\\\ . & . & . \\\\ . & . & .\\\\ a_{n1}b_{n1} & . . .&  a_{nn}b_{nn} \\end{bmatrix}$"
      ],
      "metadata": {
        "id": "7oKhXzny4cZ6"
      },
      "id": "7oKhXzny4cZ6"
    },
    {
      "cell_type": "code",
      "source": [
        "# Hadamard Product : Element Wise Product\n",
        "z = W*x\n",
        "print(z.shape)\n",
        "print(z)"
      ],
      "metadata": {
        "colab": {
          "base_uri": "https://localhost:8080/"
        },
        "id": "Y7Ha5phqwSEO",
        "outputId": "afec4b0e-f6ce-406c-8bcc-138aeb4baa24"
      },
      "id": "Y7Ha5phqwSEO",
      "execution_count": 18,
      "outputs": [
        {
          "output_type": "stream",
          "name": "stdout",
          "text": [
            "(6, 10)\n",
            "[[ 0.         -0.02957836 -0.36726467 -0.08814405 -0.37958424 -0.39617155\n",
            "  -0.15242491  0.39022512  1.78741345  0.54840458]\n",
            " [ 0.          0.05473085 -0.06050651  0.3598278  -0.26482754 -0.18513333\n",
            "  -0.37995272 -0.02024482 -0.88694411 -3.01851377]\n",
            " [ 0.         -0.03229319  0.38820095  0.49728357 -0.37255102 -0.32673966\n",
            "  -0.26062576  0.02674517 -0.4392978   0.85415914]\n",
            " [ 0.         -0.01450818 -0.16781739  0.17590014  0.32516763 -0.32603131\n",
            "  -1.56454236 -0.50483856  0.74601261 -0.94387972]\n",
            " [ 0.         -0.25818812  0.01832246 -0.35952696 -0.48921394  0.10057612\n",
            "   0.56756947  0.31444193  0.03942718 -0.50769229]\n",
            " [ 0.          0.04009538  0.02449523  0.03902806 -0.26125048  0.71871143\n",
            "   0.06488015 -1.06569006 -0.11009886  0.67812954]]\n"
          ]
        }
      ]
    },
    {
      "cell_type": "markdown",
      "source": [
        "## Outer Product\n",
        "\n",
        "$A_{n} \\times B_{m} \\rightarrow C_{n \\times m} = \\begin{bmatrix} a_{1}b_{1} & . . .&  a_{1}b_{m} \\\\ . & . & . \\\\ . & . & . \\\\ . & . & .\\\\ a_{n}b_{1} & . . .&  a_{n}b_{m} \\end{bmatrix}$"
      ],
      "metadata": {
        "id": "qlJY3BHg6akZ"
      },
      "id": "qlJY3BHg6akZ"
    },
    {
      "cell_type": "code",
      "source": [
        "a = np.random.normal(0, 0.1, size = [3])\n",
        "b = np.random.normal(0, 0.1, size = [4])\n",
        "print(a, b)"
      ],
      "metadata": {
        "colab": {
          "base_uri": "https://localhost:8080/"
        },
        "id": "2DNoxUItC97q",
        "outputId": "66ca3e2e-497d-4f33-891c-2add02f4a098"
      },
      "id": "2DNoxUItC97q",
      "execution_count": 49,
      "outputs": [
        {
          "output_type": "stream",
          "name": "stdout",
          "text": [
            "[ 0.15746002 -0.14747675 -0.02453363] [-0.01754361  0.06781964  0.03089739  0.03055758]\n"
          ]
        }
      ]
    },
    {
      "cell_type": "code",
      "source": [
        "op = np.outer(a, b)\n",
        "print(op, op.shape)"
      ],
      "metadata": {
        "colab": {
          "base_uri": "https://localhost:8080/"
        },
        "id": "B6kbKOJgEDVw",
        "outputId": "fca6948d-8b8c-4f89-8747-6cc700d8aec9"
      },
      "id": "B6kbKOJgEDVw",
      "execution_count": 50,
      "outputs": [
        {
          "output_type": "stream",
          "name": "stdout",
          "text": [
            "[[-0.00276242  0.01067888  0.0048651   0.0048116 ]\n",
            " [ 0.00258727 -0.01000182 -0.00455665 -0.00450653]\n",
            " [ 0.00043041 -0.00166386 -0.00075802 -0.00074969]] (3, 4)\n"
          ]
        }
      ]
    },
    {
      "cell_type": "markdown",
      "source": [
        "More on tensor operations : https://numpy.org/doc/stable/reference/routines.linalg.html"
      ],
      "metadata": {
        "id": "A9SbDu5iDt41"
      },
      "id": "A9SbDu5iDt41"
    },
    {
      "cell_type": "markdown",
      "source": [
        "## Mathematical functions in numpy\n",
        "\n",
        "https://numpy.org/doc/stable/reference/routines.math.html"
      ],
      "metadata": {
        "id": "1C4qSEpx3NpE"
      },
      "id": "1C4qSEpx3NpE"
    },
    {
      "cell_type": "code",
      "source": [
        "x = np.random.uniform(0, 5, size = [10])\n",
        "print(x)"
      ],
      "metadata": {
        "colab": {
          "base_uri": "https://localhost:8080/"
        },
        "id": "kPNuOOA23W_3",
        "outputId": "bc8fd579-d408-4d37-d00d-3891a62a033c"
      },
      "id": "kPNuOOA23W_3",
      "execution_count": 58,
      "outputs": [
        {
          "output_type": "stream",
          "name": "stdout",
          "text": [
            "[1.14505469 3.92953208 1.97588485 0.88051298 3.57446758 0.45331059\n",
            " 0.08407703 3.2247309  3.72184661 0.1283029 ]\n"
          ]
        }
      ]
    },
    {
      "cell_type": "code",
      "source": [
        "np.sin(x)"
      ],
      "metadata": {
        "colab": {
          "base_uri": "https://localhost:8080/"
        },
        "id": "iMnTmEKuGfbl",
        "outputId": "01f5a2c0-e67e-4554-8ce1-801402b35115"
      },
      "id": "iMnTmEKuGfbl",
      "execution_count": 59,
      "outputs": [
        {
          "output_type": "execute_result",
          "data": {
            "text/plain": [
              "array([ 0.91073269, -0.70890144,  0.91906751,  0.77106563, -0.41948229,\n",
              "        0.43794416,  0.08397801, -0.08304251, -0.54823634,  0.12795118])"
            ]
          },
          "metadata": {},
          "execution_count": 59
        }
      ]
    },
    {
      "cell_type": "code",
      "source": [
        "np.tanh(x)"
      ],
      "metadata": {
        "colab": {
          "base_uri": "https://localhost:8080/"
        },
        "id": "kvLHHxGLGy7O",
        "outputId": "cee6c371-3cb4-4fbc-98e3-149be0d44a54"
      },
      "id": "kvLHHxGLGy7O",
      "execution_count": 60,
      "outputs": [
        {
          "output_type": "execute_result",
          "data": {
            "text/plain": [
              "array([0.81610916, 0.99922783, 0.96228362, 0.70667622, 0.99842983,\n",
              "       0.42461651, 0.08387947, 0.99684225, 0.99883044, 0.12760348])"
            ]
          },
          "metadata": {},
          "execution_count": 60
        }
      ]
    },
    {
      "cell_type": "code",
      "source": [
        "np.round(x, 2)"
      ],
      "metadata": {
        "colab": {
          "base_uri": "https://localhost:8080/"
        },
        "id": "f6VS2U8qG6DV",
        "outputId": "3148799d-0886-4373-da82-5f070a497fd0"
      },
      "id": "f6VS2U8qG6DV",
      "execution_count": 61,
      "outputs": [
        {
          "output_type": "execute_result",
          "data": {
            "text/plain": [
              "array([1.15, 3.93, 1.98, 0.88, 3.57, 0.45, 0.08, 3.22, 3.72, 0.13])"
            ]
          },
          "metadata": {},
          "execution_count": 61
        }
      ]
    },
    {
      "cell_type": "code",
      "source": [
        "np.prod(x)"
      ],
      "metadata": {
        "colab": {
          "base_uri": "https://localhost:8080/"
        },
        "id": "6JCRrHLGHezD",
        "outputId": "e5bef0a7-71c6-418c-91f1-5a5ddae6ff9d"
      },
      "id": "6JCRrHLGHezD",
      "execution_count": 63,
      "outputs": [
        {
          "output_type": "execute_result",
          "data": {
            "text/plain": [
              "1.6422431671596907"
            ]
          },
          "metadata": {},
          "execution_count": 63
        }
      ]
    },
    {
      "cell_type": "code",
      "source": [
        "np.sum(x)"
      ],
      "metadata": {
        "colab": {
          "base_uri": "https://localhost:8080/"
        },
        "id": "v2zpA50LHnG6",
        "outputId": "8f051770-c14f-41a6-aeab-7d189639e14d"
      },
      "id": "v2zpA50LHnG6",
      "execution_count": 64,
      "outputs": [
        {
          "output_type": "execute_result",
          "data": {
            "text/plain": [
              "19.117720209080915"
            ]
          },
          "metadata": {},
          "execution_count": 64
        }
      ]
    },
    {
      "cell_type": "code",
      "source": [
        "np.log(x)"
      ],
      "metadata": {
        "colab": {
          "base_uri": "https://localhost:8080/"
        },
        "id": "HVoXPl-pHzx8",
        "outputId": "0dfcbd20-c935-414c-d915-9f65df490aa9"
      },
      "id": "HVoXPl-pHzx8",
      "execution_count": 65,
      "outputs": [
        {
          "output_type": "execute_result",
          "data": {
            "text/plain": [
              "array([ 0.1354524 ,  1.36852035,  0.68101632, -0.1272506 ,  1.27381624,\n",
              "       -0.79117776, -2.4760219 ,  1.17084951,  1.31421994, -2.05336141])"
            ]
          },
          "metadata": {},
          "execution_count": 65
        }
      ]
    },
    {
      "cell_type": "code",
      "source": [
        "np.log10(x)"
      ],
      "metadata": {
        "colab": {
          "base_uri": "https://localhost:8080/"
        },
        "id": "7E_8pEvaH_Kt",
        "outputId": "73a52889-9aef-497e-c392-fca953a92775"
      },
      "id": "7E_8pEvaH_Kt",
      "execution_count": 66,
      "outputs": [
        {
          "output_type": "execute_result",
          "data": {
            "text/plain": [
              "array([ 0.05882623,  0.59434084,  0.29576163, -0.05526424,  0.55321136,\n",
              "       -0.34360413, -1.07532265,  0.50849348,  0.57075847, -0.89176353])"
            ]
          },
          "metadata": {},
          "execution_count": 66
        }
      ]
    },
    {
      "cell_type": "code",
      "source": [
        "np.log2(x)"
      ],
      "metadata": {
        "colab": {
          "base_uri": "https://localhost:8080/"
        },
        "id": "w0Vv88QRIBDP",
        "outputId": "ee491814-3568-4950-bed9-fa7e2574bd04"
      },
      "id": "w0Vv88QRIBDP",
      "execution_count": 67,
      "outputs": [
        {
          "output_type": "execute_result",
          "data": {
            "text/plain": [
              "array([ 0.1954165 ,  1.97435753,  0.98249887, -0.18358382,  1.83772837,\n",
              "       -1.14142823, -3.57214452,  1.68917878,  1.8960186 , -2.96237432])"
            ]
          },
          "metadata": {},
          "execution_count": 67
        }
      ]
    },
    {
      "cell_type": "code",
      "source": [
        "np.exp(x)"
      ],
      "metadata": {
        "colab": {
          "base_uri": "https://localhost:8080/"
        },
        "id": "g6U8fztLICpL",
        "outputId": "6d958c2b-c7b1-4d15-d0ba-b5a7eced753e"
      },
      "id": "g6U8fztLICpL",
      "execution_count": 68,
      "outputs": [
        {
          "output_type": "execute_result",
          "data": {
            "text/plain": [
              "array([ 3.14261321, 50.88316274,  7.21299925,  2.41213678, 35.6756214 ,\n",
              "        1.57351283,  1.08771267, 25.14680636, 41.34066363,  1.13689732])"
            ]
          },
          "metadata": {},
          "execution_count": 68
        }
      ]
    }
  ],
  "metadata": {
    "kernelspec": {
      "display_name": "Python 3 (ipykernel)",
      "language": "python",
      "name": "python3"
    },
    "language_info": {
      "codemirror_mode": {
        "name": "ipython",
        "version": 3
      },
      "file_extension": ".py",
      "mimetype": "text/x-python",
      "name": "python",
      "nbconvert_exporter": "python",
      "pygments_lexer": "ipython3",
      "version": "3.9.13"
    },
    "colab": {
      "provenance": []
    }
  },
  "nbformat": 4,
  "nbformat_minor": 5
}